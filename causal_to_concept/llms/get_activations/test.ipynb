{
 "cells": [
  {
   "cell_type": "code",
   "execution_count": 1,
   "metadata": {},
   "outputs": [],
   "source": [
    "import os\n",
    "import torch\n",
    "from datasets import load_dataset\n",
    "from tqdm import tqdm\n",
    "import numpy as np\n",
    "import pickle\n",
    "import sys"
   ]
  },
  {
   "cell_type": "code",
   "execution_count": 6,
   "metadata": {},
   "outputs": [],
   "source": [
    "from transformers import AutoTokenizer, AutoModel, AutoModelForCausalLM\n"
   ]
  },
  {
   "cell_type": "code",
   "execution_count": 34,
   "metadata": {},
   "outputs": [],
   "source": [
    "def tokenize_toxigen(dataset, dataset_non, tokenizer):\n",
    "    all_prompts = []\n",
    "    all_toxic = []\n",
    "    all_non = []\n",
    "    all_labels = []\n",
    "    all_text = []\n",
    "    print(\"start tokenizing\")\n",
    "    for i in tqdm(range(len(dataset))):\n",
    "        toxic_text = dataset['toxic paraphrase'][i]['text']\n",
    "        toxic_label = 1\n",
    "        prompt = tokenizer(toxic_text, return_tensors='pt').input_ids\n",
    "        all_toxic.append(prompt)\n",
    "        \n",
    "        non_toxic_text = dataset['non toxic paraphrase'][i]['text']\n",
    "        non_toxic_label = 0\n",
    "        prompt = tokenizer(non_toxic_text, return_tensors='pt').input_ids\n",
    "        all_non.append(prompt)\n",
    "        all_text.append(dataset['original'][i])\n",
    "        \n",
    "    for i in tqdm(range(len(dataset_non))):\n",
    "        toxic_text = dataset_non['toxic paraphrase'][i]['text']\n",
    "        toxic_label = 1\n",
    "        prompt = tokenizer(toxic_text, return_tensors='pt').input_ids\n",
    "        all_toxic.append(prompt)\n",
    "        \n",
    "        non_toxic_text = dataset_non['non toxic paraphrase'][i]['text']\n",
    "        non_toxic_label = 0\n",
    "        prompt = tokenizer(non_toxic_text, return_tensors='pt').input_ids\n",
    "        all_non.append(prompt)\n",
    "        all_text.append(dataset_non['original'][i])\n",
    "\n",
    "    return all_toxic, all_non, all_text"
   ]
  },
  {
   "cell_type": "code",
   "execution_count": 2,
   "metadata": {},
   "outputs": [],
   "source": [
    "dataset = load_dataset(\"json\", data_files=\"../../../dataset/vicuna-13b_toxic.json\")[\"train\"]\n",
    "dataset_non = load_dataset(\"json\", data_files=\"../../../dataset/vicuna-13b_nontoxic.json\")[\"train\"]"
   ]
  },
  {
   "cell_type": "code",
   "execution_count": 35,
   "metadata": {},
   "outputs": [
    {
     "name": "stdout",
     "output_type": "stream",
     "text": [
      "start tokenizing\n"
     ]
    },
    {
     "name": "stderr",
     "output_type": "stream",
     "text": [
      "100%|██████████| 3066/3066 [02:42<00:00, 18.87it/s]\n",
      "100%|██████████| 4066/4066 [05:11<00:00, 13.07it/s]\n"
     ]
    }
   ],
   "source": [
    "tokenizer = AutoTokenizer.from_pretrained('huggyllama/llama-7b')\n",
    "toxic, non, text = tokenize_toxigen(dataset, dataset_non, tokenizer)\n"
   ]
  },
  {
   "cell_type": "code",
   "execution_count": 37,
   "metadata": {},
   "outputs": [
    {
     "name": "stdout",
     "output_type": "stream",
     "text": [
      "566\n"
     ]
    }
   ],
   "source": [
    "num = 0\n",
    "for i, item in enumerate(toxic):\n",
    "    if len(item[0]) <= 1:\n",
    "        num += 1\n",
    "print(num)"
   ]
  },
  {
   "cell_type": "code",
   "execution_count": 38,
   "metadata": {},
   "outputs": [
    {
     "name": "stdout",
     "output_type": "stream",
     "text": [
      "0\n"
     ]
    }
   ],
   "source": [
    "num = 0\n",
    "for i, item in enumerate(non):\n",
    "    if len(item[0]) <= 1:\n",
    "        num += 1\n",
    "print(num)"
   ]
  },
  {
   "cell_type": "code",
   "execution_count": 39,
   "metadata": {},
   "outputs": [
    {
     "data": {
      "text/plain": [
       "7132"
      ]
     },
     "execution_count": 39,
     "metadata": {},
     "output_type": "execute_result"
    }
   ],
   "source": [
    "len(text)"
   ]
  },
  {
   "cell_type": "code",
   "execution_count": 28,
   "metadata": {},
   "outputs": [
    {
     "data": {
      "text/plain": [
       "\"The only difference between the Jewish Mafia and the rest of the Jewish community is that the Jewish Mafia doesn't pretend to be anything other than what it is\""
      ]
     },
     "execution_count": 28,
     "metadata": {},
     "output_type": "execute_result"
    }
   ],
   "source": [
    "text[31]"
   ]
  },
  {
   "cell_type": "code",
   "execution_count": 30,
   "metadata": {},
   "outputs": [
    {
     "data": {
      "text/plain": [
       "''"
      ]
     },
     "execution_count": 30,
     "metadata": {},
     "output_type": "execute_result"
    }
   ],
   "source": [
    "dataset['toxic paraphrase'][31]['text']"
   ]
  },
  {
   "cell_type": "code",
   "execution_count": 31,
   "metadata": {},
   "outputs": [
    {
     "data": {
      "text/plain": [
       "'The Jewish Mafia and the rest of the Jewish community are distinct in that the former does not feign any other identity besides its true one.'"
      ]
     },
     "execution_count": 31,
     "metadata": {},
     "output_type": "execute_result"
    }
   ],
   "source": [
    "dataset['non toxic paraphrase'][31]['text']"
   ]
  },
  {
   "cell_type": "code",
   "execution_count": null,
   "metadata": {},
   "outputs": [],
   "source": []
  }
 ],
 "metadata": {
  "kernelspec": {
   "display_name": "Python 3",
   "language": "python",
   "name": "python3"
  },
  "language_info": {
   "codemirror_mode": {
    "name": "ipython",
    "version": 3
   },
   "file_extension": ".py",
   "mimetype": "text/x-python",
   "name": "python",
   "nbconvert_exporter": "python",
   "pygments_lexer": "ipython3",
   "version": "3.8.15"
  }
 },
 "nbformat": 4,
 "nbformat_minor": 2
}
